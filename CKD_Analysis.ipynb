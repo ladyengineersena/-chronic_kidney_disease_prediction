﻿{
 "cells": [
  {
   "cell_type": "markdown",
   "metadata": {},
   "source": [
    "# Kronik BÃ¶brek HastalÄ±ÄŸÄ± Tahmini\\n",
    "## Random Forest ile Erken TanÄ±\\n",
    "\\n",
    "Bu notebook, kronik bÃ¶brek hastalÄ±ÄŸÄ±nÄ±n erken tanÄ±sÄ± iÃ§in Random Forest algoritmasÄ± kullanÄ±mÄ±nÄ± gÃ¶sterir."
   ]
  },
  {
   "cell_type": "code",
   "execution_count": null,
   "metadata": {},
   "outputs": [],
   "source": [
    "# Gerekli kÃ¼tÃ¼phaneleri import et\\n",
    "import pandas as pd\\n",
    "import numpy as np\\n",
    "import matplotlib.pyplot as plt\\n",
    "import seaborn as sns\\n",
    "from sklearn.ensemble import RandomForestClassifier\\n",
    "from sklearn.model_selection import train_test_split\\n",
    "from sklearn.metrics import accuracy_score, classification_report\\n",
    "import warnings\\n",
    "warnings.filterwarnings('ignore')\\n",
    "\\n",
    "# TÃ¼rkÃ§e karakter desteÄŸi\\n",
    "plt.rcParams['font.family'] = 'DejaVu Sans'"
   ]
  },
  {
   "cell_type": "markdown",
   "metadata": {},
   "source": [
    "## 1. Veri YÃ¼kleme ve KeÅŸif"
   ]
  },
  {
   "cell_type": "code",
   "execution_count": null,
   "metadata": {},
   "outputs": [],
   "source": [
    "# Ã–rnek veri seti oluÅŸtur\\n",
    "from example_usage import create_sample_data\\n",
    "\\n",
    "# Veri setini oluÅŸtur\\n",
    "data = create_sample_data()\\n",
    "print(f\"Veri seti boyutu: {data.shape}\")\\n",
    "print(f\"\\nSÃ¼tunlar: {list(data.columns)}\")\\n",
    "print(f\"\\nSÄ±nÄ±f daÄŸÄ±lÄ±mÄ±:\")\\n",
    "print(data['class'].value_counts())"
   ]
  },
  {
   "cell_type": "markdown",
   "metadata": {},
   "source": [
    "## 2. Veri GÃ¶rselleÅŸtirme"
   ]
  },
  {
   "cell_type": "code",
   "execution_count": null,
   "metadata": {},
   "outputs": [],
   "source": [
    "# SÄ±nÄ±f daÄŸÄ±lÄ±mÄ±nÄ± gÃ¶rselleÅŸtir\\n",
    "plt.figure(figsize=(10, 6))\\n",
    "\\n",
    "plt.subplot(1, 2, 1)\\n",
    "data['class'].value_counts().plot(kind='bar', color=['skyblue', 'lightcoral'])\\n",
    "plt.title('SÄ±nÄ±f DaÄŸÄ±lÄ±mÄ±')\\n",
    "plt.xlabel('SÄ±nÄ±f')\\n",
    "plt.ylabel('SayÄ±')\\n",
    "plt.xticks(rotation=45)\\n",
    "\\n",
    "plt.subplot(1, 2, 2)\\n",
    "plt.pie(data['class'].value_counts().values, \\n",
    "        labels=data['class'].value_counts().index, \\n",
    "        autopct='%1.1f%%',\\n",
    "        colors=['skyblue', 'lightcoral'])\\n",
    "plt.title('SÄ±nÄ±f DaÄŸÄ±lÄ±mÄ± (%)')\\n",
    "\\n",
    "plt.tight_layout()\\n",
    "plt.show()"
   ]
  },
  {
   "cell_type": "markdown",
   "metadata": {},
   "source": [
    "## 3. Model EÄŸitimi"
   ]
  },
  {
   "cell_type": "code",
   "execution_count": null,
   "metadata": {},
   "outputs": [],
   "source": [
    "# CKD Predictor'Ä± kullan\\n",
    "from ckd_predictor import CKDPredictor\\n",
    "\\n",
    "# Modeli oluÅŸtur ve eÄŸit\\n",
    "predictor = CKDPredictor()\\n",
    "predictor.data = data\\n",
    "predictor.preprocess_data()\\n",
    "predictor.train()\\n",
    "\\n",
    "print(\"Model eÄŸitimi tamamlandÄ±!\")"
   ]
  },
  {
   "cell_type": "markdown",
   "metadata": {},
   "source": [
    "## 4. Model DeÄŸerlendirme"
   ]
  },
  {
   "cell_type": "code",
   "execution_count": null,
   "metadata": {},
   "outputs": [],
   "source": [
    "# Model performansÄ±nÄ± deÄŸerlendir\\n",
    "results = predictor.evaluate()\\n",
    "\\n",
    "# Ã–zellik Ã¶nemlerini gÃ¶ster\\n",
    "feature_importance = predictor.get_feature_importance()"
   ]
  },
  {
   "cell_type": "markdown",
   "metadata": {},
   "source": [
    "## 5. Yeni Hasta Tahmini"
   ]
  },
  {
   "cell_type": "code",
   "execution_count": null,
   "metadata": {},
   "outputs": [],
   "source": [
    "# Yeni hasta verisi\\n",
    "new_patient = {\\n",
    "    'age': 65,\\n",
    "    'bp': 80,\\n",
    "    'sg': 1.020,\\n",
    "    'al': 1,\\n",
    "    'su': 0,\\n",
    "    'rbc': 0,\\n",
    "    'pc': 0,\\n",
    "    'pcc': 0,\\n",
    "    'ba': 0,\\n",
    "    'bgr': 120,\\n",
    "    'bu': 60,\\n",
    "    'sc': 1.2,\\n",
    "    'sod': 140,\\n",
    "    'pot': 4.5,\\n",
    "    'hemo': 12.5,\\n",
    "    'pcv': 38,\\n",
    "    'wbcc': 7000,\\n",
    "    'rbcc': 4.5,\\n",
    "    'htn': 1,\\n",
    "    'dm': 0,\\n",
    "    'cad': 0,\\n",
    "    'appet': 1,\\n",
    "    'pe': 0,\\n",
    "    'ane': 0\\n",
    "}\\n",
    "\\n",
    "# Tahmin yap\\n",
    "prediction_result = predictor.predict(new_patient)\\n",
    "\\n",
    "print(f\"\\nTahmin Sonucu: {prediction_result['prediction']}\")\\n",
    "print(f\"GÃ¼ven Skoru: {prediction_result['confidence']:.2f}%\")"
   ]
  },
  {
   "cell_type": "markdown",
   "metadata": {},
   "source": [
    "## 6. SonuÃ§lar ve Yorumlar\\n",
    "\\n",
    "Bu notebook, Random Forest algoritmasÄ± kullanarak kronik bÃ¶brek hastalÄ±ÄŸÄ±nÄ±n erken tanÄ±sÄ±nÄ± gÃ¶sterir. Model yÃ¼ksek doÄŸruluk oranÄ± ile tahmin yapabilmektedir."
   ]
  }
 ],
 "metadata": {
  "kernelspec": {
   "display_name": "Python 3",
   "language": "python",
   "name": "python3"
  },
  "language_info": {
   "codemirror_mode": {
    "name": "ipython",
    "version": 3
   },
   "file_extension": ".py",
   "mimetype": "text/x-python",
   "name": "python",
   "nbconvert_exporter": "python",
   "pygments_lexer": "ipython3",
   "version": "3.8.5"
  }
 },
 "nbformat": 4,
 "nbformat_minor": 4
}
